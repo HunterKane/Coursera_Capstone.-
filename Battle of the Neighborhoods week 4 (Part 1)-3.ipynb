{
 "cells": [
  {
   "attachments": {},
   "cell_type": "markdown",
   "metadata": {},
   "source": [
    "# Introduction & Business Problem\n",
    "\n",
    "A VR company from Japan is looking to expand its business in New York. It wants to find a location that is best suited for this new opening. The owner is unfamilair with the area and needs more data to determine if he should proceed with opening a new location. To maximize success and make data-driven decision we need to analyze the demographic data and surrounding venues. \n",
    "\n",
    "__Key data points to explore:__\n",
    "- Population density \n",
    "- Total population in that area \n",
    "- Income per capita \n",
    "- Surrounding venues\n"
   ]
  },
  {
   "cell_type": "markdown",
   "metadata": {},
   "source": [
    "## About the Data:\n",
    "Here's some brief about the locaions in particular(source: wikipedia):\n",
    "As defined by the United States Census Bureau, an \"incorporated place\" includes a variety of designations, including city, town, village, borough, and municipality. A few exceptional census-designated places (CDPs) are also included in the Census Bureau's listing of incorporated places. Consolidated city-counties represent a distinct type of government that includes the entire population of a county, or county equivalent. Some consolidated city-counties, however, include multiple incorporated places.\n",
    "About the State income levels: State income levels and income data for the United States as a whole are included for comparison. Note that county-equivalents in Louisiana are called \"parishes\" and in Alaska are called in \"boroughs,\" and also that in Alaska census areas in the Unorganized Borough are county-equivalents. For states where independent cities are county-equivalents, the word \"city\" is included to identify the independent cities and to differentiate them from counties with identical names; the counties with the identical names have the word \"county\" following them. The word \"county\" is included in the names of counties that have names identical to the names of U.S. states or cities to differentiate them.\n",
    "\n",
    "\n",
    "# Business Problem\n",
    "\n",
    "- Where is the best location in the USA to set up a new VR store? Is the CEO acurate n saying New York is the best place to set up a new VR store? \n",
    "\n",
    "\n",
    "# Tools used:\n",
    "\n",
    "- Foursquare API\n",
    "- IBM Watson Account\n",
    "- List of United States countries by per capita income\n",
    "- List of United States cities by population\n",
    "- Jupiter Notebooks\n",
    "\n",
    "# Methodology\n",
    "In order to do the analysis and suggest the best location, following are the steps we have to follow :\n",
    "The Wikipedia page (https://en.wikipedia.org/wiki/List_of_United_States_cities_by_population) was scraped using the BeautifulSoup library to build a pandas dataframe listing the cities, states, coordinates, area and population density. The dataframe was cleaned and processed appropriately.\n",
    "The Wikipedia page (https://en.wikipedia.org/wiki/List_of_United_States_counties_by_per_capita_income) was scraped using the BeautifulSoup library to build a pandas dataframe listing the cities, states and percapita income. The dataframe was cleaned and processed appropriately.\n",
    "The Foursquare API is then used to get the venues in each city of United States\n",
    "Based on the categories of each venue as decided by the CEO, we have assigned weights to each of them and got the city that has the maximum weight.\n",
    "Once the city is finalized, we again use Four Square API to get the venues within that city and assign weights to each category.\n",
    "We will now use K means to cluster the venues based on the category and get the coordinates of the cluster that has maximum weight which is also our preferred location to setup a VR store.\n"
   ]
  },
  {
   "cell_type": "code",
   "execution_count": null,
   "metadata": {},
   "outputs": [],
   "source": []
  }
 ],
 "metadata": {
  "kernelspec": {
   "display_name": "Python 3",
   "language": "python",
   "name": "python3"
  },
  "language_info": {
   "codemirror_mode": {
    "name": "ipython",
    "version": 3
   },
   "file_extension": ".py",
   "mimetype": "text/x-python",
   "name": "python",
   "nbconvert_exporter": "python",
   "pygments_lexer": "ipython3",
   "version": "3.8.5"
  }
 },
 "nbformat": 4,
 "nbformat_minor": 4
}
