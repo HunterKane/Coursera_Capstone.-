{
 "cells": [
  {
   "attachments": {},
   "cell_type": "markdown",
   "metadata": {},
   "source": [
    "# Introduction & Business Problem\n",
    "\n",
    "A VR company from Japan is looking to expand its business in New York. It wants to find a location that is best suited for this new opening. The owner is unfamilair with the area and needs more data to determine if he should proceed with opening a new location. To maximize success and make data-driven decision we need to analyze the demographic data and surrounding venues. \n",
    "\n",
    "__Key data points to explore:__\n",
    "- Population density \n",
    "- Total population in that area \n",
    "- Income per capita \n",
    "- Surrounding venues\n"
   ]
  },
  {
   "cell_type": "code",
   "execution_count": null,
   "metadata": {},
   "outputs": [],
   "source": []
  }
 ],
 "metadata": {
  "kernelspec": {
   "display_name": "Python 3",
   "language": "python",
   "name": "python3"
  },
  "language_info": {
   "codemirror_mode": {
    "name": "ipython",
    "version": 3
   },
   "file_extension": ".py",
   "mimetype": "text/x-python",
   "name": "python",
   "nbconvert_exporter": "python",
   "pygments_lexer": "ipython3",
   "version": "3.8.5"
  }
 },
 "nbformat": 4,
 "nbformat_minor": 4
}
